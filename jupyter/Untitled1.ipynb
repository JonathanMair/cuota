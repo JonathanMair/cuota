{
 "cells": [
  {
   "cell_type": "code",
   "execution_count": 2,
   "id": "61fdfa95-fb4c-424d-98b2-078edfcae5ef",
   "metadata": {},
   "outputs": [
    {
     "data": {
      "text/plain": [
       "['social security', 'income tax']"
      ]
     },
     "execution_count": 2,
     "metadata": {},
     "output_type": "execute_result"
    }
   ],
   "source": [
    "metrics = {\n",
    "            \"PAYABLE\": \"payable\",\n",
    "            \"_NET_THIS\": \"net of this metric\",\n",
    "            \"_NET_SEQ\": \"net in sequence\",\n",
    "        \"_EFFECTIVE_THIS\": \"effective rate\",\n",
    "        \"_EFFECTIVE_SEQ\": \"effective in sequence\"\n",
    "        }\n",
    "rules = [\"social security\", \"income tax\"]\n",
    "rules"
   ]
  },
  {
   "cell_type": "code",
   "execution_count": 16,
   "id": "dc7244ad-22ed-4b2c-8c0c-9358e9f97dee",
   "metadata": {},
   "outputs": [
    {
     "data": {
      "text/plain": [
       "[[('social security', 'payable'),\n",
       "  ('social security', 'net of this metric'),\n",
       "  ('social security', 'net in sequence'),\n",
       "  ('social security', 'effective rate'),\n",
       "  ('social security', 'effective in sequence')],\n",
       " [('income tax', 'payable'),\n",
       "  ('income tax', 'net of this metric'),\n",
       "  ('income tax', 'net in sequence'),\n",
       "  ('income tax', 'effective rate'),\n",
       "  ('income tax', 'effective in sequence')]]"
      ]
     },
     "execution_count": 16,
     "metadata": {},
     "output_type": "execute_result"
    }
   ],
   "source": [
    "tuples = [[(rule, metric) for metric in metrics.values()] for rule in rules]\n",
    "tuples"
   ]
  },
  {
   "cell_type": "code",
   "execution_count": 17,
   "id": "7f925390-1325-4ac4-86b2-872f4d84c8ff",
   "metadata": {},
   "outputs": [],
   "source": [
    "import pandas as pd\n"
   ]
  },
  {
   "cell_type": "code",
   "execution_count": 25,
   "id": "8b32f7c9-c7c3-444d-8246-ec28f987a3fe",
   "metadata": {},
   "outputs": [
    {
     "data": {
      "text/plain": [
       "MultiIndex([(('social security', 'payable'), ...),\n",
       "            (     ('income tax', 'payable'), ...)],\n",
       "           )"
      ]
     },
     "execution_count": 25,
     "metadata": {},
     "output_type": "execute_result"
    }
   ],
   "source": [
    "x = pd.MultiIndex.from_tuples(tuples)\n",
    "x"
   ]
  }
 ],
 "metadata": {
  "kernelspec": {
   "display_name": "Python 3 (ipykernel)",
   "language": "python",
   "name": "python3"
  },
  "language_info": {
   "codemirror_mode": {
    "name": "ipython",
    "version": 3
   },
   "file_extension": ".py",
   "mimetype": "text/x-python",
   "name": "python",
   "nbconvert_exporter": "python",
   "pygments_lexer": "ipython3",
   "version": "3.12.7"
  }
 },
 "nbformat": 4,
 "nbformat_minor": 5
}
