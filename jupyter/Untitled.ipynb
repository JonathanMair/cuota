{
 "cells": [
  {
   "cell_type": "code",
   "execution_count": 1,
   "id": "282af65c-e007-439f-9a87-739b4734a779",
   "metadata": {},
   "outputs": [],
   "source": [
    "from cuota.logic.calculations import Calculator\n",
    "from cuota.importers.import_tax_data import get_income_tax_bands, get_social_security_bands, get_spanish_regimen_general\n",
    "from cuota.data_classes.tax_rules import BandsGroup, TaxModel"
   ]
  },
  {
   "cell_type": "code",
   "execution_count": null,
   "id": "95fdc7e6-5e71-4c34-bf9b-cf8f75ec2ef5",
   "metadata": {},
   "outputs": [],
   "source": []
  },
  {
   "cell_type": "code",
   "execution_count": 2,
   "id": "606d5d57-2522-4f61-8bb1-ac23fdc67297",
   "metadata": {},
   "outputs": [],
   "source": [
    "ss = get_social_security_bands()"
   ]
  },
  {
   "cell_type": "code",
   "execution_count": null,
   "id": "29b1ed2b-cced-4cad-9e8b-d0c8af92f687",
   "metadata": {},
   "outputs": [],
   "source": []
  },
  {
   "cell_type": "code",
   "execution_count": 3,
   "id": "0b0beca8-8352-4b6a-8e6e-9cfecf3fd811",
   "metadata": {},
   "outputs": [],
   "source": [
    "rule = TaxModel(tax_rules=[ss], name=\"just SS\")"
   ]
  },
  {
   "cell_type": "code",
   "execution_count": null,
   "id": "5c466f37-495f-42ad-9b6f-1161fd05c465",
   "metadata": {},
   "outputs": [],
   "source": []
  },
  {
   "cell_type": "code",
   "execution_count": 4,
   "id": "90e35e80-3797-4e4a-987a-bc329ed4f92f",
   "metadata": {},
   "outputs": [],
   "source": [
    "irpf = get_income_tax_bands()"
   ]
  },
  {
   "cell_type": "code",
   "execution_count": 5,
   "id": "543d6baf-c4a7-4eed-a838-eac05ff602cb",
   "metadata": {},
   "outputs": [
    {
     "data": {
      "text/plain": [
       "BandsGroup(bands=[Band(floor=0, ceiling=12450, rate=0.19, flat_charge=None), Band(floor=12450, ceiling=20200, rate=0.24, flat_charge=None), Band(floor=20200, ceiling=35200, rate=0.3, flat_charge=None), Band(floor=35200, ceiling=60000, rate=0.37, flat_charge=None), Band(floor=60000, ceiling=300000, rate=0.45, flat_charge=None)], allowance=5500, name='Income Tax')"
      ]
     },
     "execution_count": 5,
     "metadata": {},
     "output_type": "execute_result"
    }
   ],
   "source": [
    "irpf"
   ]
  },
  {
   "cell_type": "code",
   "execution_count": 6,
   "id": "7543aa7b-5614-471f-9d77-10af5281b4c4",
   "metadata": {},
   "outputs": [
    {
     "data": {
      "text/plain": [
       "5515"
      ]
     },
     "execution_count": 6,
     "metadata": {},
     "output_type": "execute_result"
    }
   ],
   "source": [
    "irpf.get_payable(30000)"
   ]
  },
  {
   "cell_type": "code",
   "execution_count": 7,
   "id": "fafb7c85-6559-4697-a83e-d0b89b12b885",
   "metadata": {},
   "outputs": [
    {
     "data": {
      "text/plain": [
       "5500"
      ]
     },
     "execution_count": 7,
     "metadata": {},
     "output_type": "execute_result"
    }
   ],
   "source": [
    "irpf.allowance"
   ]
  },
  {
   "cell_type": "code",
   "execution_count": 8,
   "id": "f812d1a2-f97b-4e07-bd51-aaf21a57a426",
   "metadata": {},
   "outputs": [],
   "source": [
    "metrics = {\n",
    "            \"PAYABLE\": \"payable\",\n",
    "            \"_NET_THIS\": \"net of this metric\",\n",
    "            \"_NET_SEQ\": \"net in sequence\",\n",
    "        \"_EFFECTIVE_THIS\": \"effective rate\",\n",
    "        \"_EFFECTIVE_SEQ\": \"effective in sequence\"\n",
    "        }\n",
    "        "
   ]
  },
  {
   "cell_type": "raw",
   "id": "b9ef2c79-1660-43cd-9da3-887009f6b848",
   "metadata": {},
   "source": [
    "rules = [\"social security\", \"income tax\"]\n",
    "s = (rule for rule in rules)\n",
    "print(s)\n"
   ]
  },
  {
   "cell_type": "code",
   "execution_count": null,
   "id": "81b5dc42-5778-4074-afa3-6343dd4d8dd6",
   "metadata": {},
   "outputs": [],
   "source": []
  },
  {
   "cell_type": "code",
   "execution_count": 9,
   "id": "700d26d2-7c83-4885-8c87-0793d671aa39",
   "metadata": {},
   "outputs": [
    {
     "ename": "ValidationError",
     "evalue": "1 validation error for Band\nceiling\n  Field required [type=missing, input_value={'floor': 54000, 'celing'..., 'flat_charge': 3429.0}, input_type=dict]\n    For further information visit https://errors.pydantic.dev/2.9/v/missing",
     "output_type": "error",
     "traceback": [
      "\u001b[0;31m---------------------------------------------------------------------------\u001b[0m",
      "\u001b[0;31mValidationError\u001b[0m                           Traceback (most recent call last)",
      "Cell \u001b[0;32mIn[9], line 1\u001b[0m\n\u001b[0;32m----> 1\u001b[0m t \u001b[38;5;241m=\u001b[39m \u001b[43mget_spanish_regimen_general\u001b[49m\u001b[43m(\u001b[49m\u001b[43m)\u001b[49m\n",
      "File \u001b[0;32m~/Dropbox/coding/cuota/cuota/importers/import_tax_data.py:90\u001b[0m, in \u001b[0;36mget_spanish_regimen_general\u001b[0;34m()\u001b[0m\n\u001b[1;32m     88\u001b[0m cap \u001b[38;5;241m=\u001b[39m \u001b[38;5;241m4500\u001b[39m \u001b[38;5;241m*\u001b[39m \u001b[38;5;241m12\u001b[39m  \u001b[38;5;66;03m# cap beyond which no additional charge is made\u001b[39;00m\n\u001b[1;32m     89\u001b[0m band1 \u001b[38;5;241m=\u001b[39m Band(floor\u001b[38;5;241m=\u001b[39m\u001b[38;5;241m0\u001b[39m, ceiling\u001b[38;5;241m=\u001b[39mcap, rate\u001b[38;5;241m=\u001b[39mrate)\n\u001b[0;32m---> 90\u001b[0m band2 \u001b[38;5;241m=\u001b[39m \u001b[43mBand\u001b[49m\u001b[43m(\u001b[49m\u001b[43mfloor\u001b[49m\u001b[38;5;241;43m=\u001b[39;49m\u001b[43mcap\u001b[49m\u001b[43m,\u001b[49m\u001b[43m \u001b[49m\u001b[43mceling\u001b[49m\u001b[38;5;241;43m=\u001b[39;49m\u001b[38;5;241;43m200000\u001b[39;49m\u001b[43m,\u001b[49m\u001b[43m \u001b[49m\u001b[43mflat_charge\u001b[49m\u001b[38;5;241;43m=\u001b[39;49m\u001b[43mrate\u001b[49m\u001b[43m \u001b[49m\u001b[38;5;241;43m*\u001b[39;49m\u001b[43m \u001b[49m\u001b[43mcap\u001b[49m\u001b[43m)\u001b[49m\n\u001b[1;32m     91\u001b[0m bandsgroup \u001b[38;5;241m=\u001b[39m BandsGroup(bands\u001b[38;5;241m=\u001b[39m[band1, band2], name\u001b[38;5;241m=\u001b[39m\u001b[38;5;124m\"\u001b[39m\u001b[38;5;124mRégimen General\u001b[39m\u001b[38;5;124m\"\u001b[39m)\n\u001b[1;32m     93\u001b[0m \u001b[38;5;28;01mreturn\u001b[39;00m [TaxModel(tax_rules\u001b[38;5;241m=\u001b[39mbandsgroup, year\u001b[38;5;241m=\u001b[39myear) \u001b[38;5;28;01mfor\u001b[39;00m year \u001b[38;5;129;01min\u001b[39;00m years]\n",
      "File \u001b[0;32m~/Dropbox/coding/cuota/.venv/lib/python3.12/site-packages/pydantic/main.py:212\u001b[0m, in \u001b[0;36mBaseModel.__init__\u001b[0;34m(self, **data)\u001b[0m\n\u001b[1;32m    210\u001b[0m \u001b[38;5;66;03m# `__tracebackhide__` tells pytest and some other tools to omit this function from tracebacks\u001b[39;00m\n\u001b[1;32m    211\u001b[0m __tracebackhide__ \u001b[38;5;241m=\u001b[39m \u001b[38;5;28;01mTrue\u001b[39;00m\n\u001b[0;32m--> 212\u001b[0m validated_self \u001b[38;5;241m=\u001b[39m \u001b[38;5;28;43mself\u001b[39;49m\u001b[38;5;241;43m.\u001b[39;49m\u001b[43m__pydantic_validator__\u001b[49m\u001b[38;5;241;43m.\u001b[39;49m\u001b[43mvalidate_python\u001b[49m\u001b[43m(\u001b[49m\u001b[43mdata\u001b[49m\u001b[43m,\u001b[49m\u001b[43m \u001b[49m\u001b[43mself_instance\u001b[49m\u001b[38;5;241;43m=\u001b[39;49m\u001b[38;5;28;43mself\u001b[39;49m\u001b[43m)\u001b[49m\n\u001b[1;32m    213\u001b[0m \u001b[38;5;28;01mif\u001b[39;00m \u001b[38;5;28mself\u001b[39m \u001b[38;5;129;01mis\u001b[39;00m \u001b[38;5;129;01mnot\u001b[39;00m validated_self:\n\u001b[1;32m    214\u001b[0m     warnings\u001b[38;5;241m.\u001b[39mwarn(\n\u001b[1;32m    215\u001b[0m         \u001b[38;5;124m'\u001b[39m\u001b[38;5;124mA custom validator is returning a value other than `self`.\u001b[39m\u001b[38;5;130;01m\\n\u001b[39;00m\u001b[38;5;124m'\u001b[39m\n\u001b[1;32m    216\u001b[0m         \u001b[38;5;124m\"\u001b[39m\u001b[38;5;124mReturning anything other than `self` from a top level model validator isn\u001b[39m\u001b[38;5;124m'\u001b[39m\u001b[38;5;124mt supported when validating via `__init__`.\u001b[39m\u001b[38;5;130;01m\\n\u001b[39;00m\u001b[38;5;124m\"\u001b[39m\n\u001b[1;32m    217\u001b[0m         \u001b[38;5;124m'\u001b[39m\u001b[38;5;124mSee the `model_validator` docs (https://docs.pydantic.dev/latest/concepts/validators/#model-validators) for more details.\u001b[39m\u001b[38;5;124m'\u001b[39m,\n\u001b[1;32m    218\u001b[0m         category\u001b[38;5;241m=\u001b[39m\u001b[38;5;28;01mNone\u001b[39;00m,\n\u001b[1;32m    219\u001b[0m     )\n",
      "\u001b[0;31mValidationError\u001b[0m: 1 validation error for Band\nceiling\n  Field required [type=missing, input_value={'floor': 54000, 'celing'..., 'flat_charge': 3429.0}, input_type=dict]\n    For further information visit https://errors.pydantic.dev/2.9/v/missing"
     ]
    }
   ],
   "source": [
    "t = get_spanish_regimen_general()"
   ]
  }
 ],
 "metadata": {
  "kernelspec": {
   "display_name": "Python 3 (ipykernel)",
   "language": "python",
   "name": "python3"
  },
  "language_info": {
   "codemirror_mode": {
    "name": "ipython",
    "version": 3
   },
   "file_extension": ".py",
   "mimetype": "text/x-python",
   "name": "python",
   "nbconvert_exporter": "python",
   "pygments_lexer": "ipython3",
   "version": "3.12.7"
  }
 },
 "nbformat": 4,
 "nbformat_minor": 5
}
