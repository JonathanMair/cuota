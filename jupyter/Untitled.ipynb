{
 "cells": [
  {
   "cell_type": "code",
   "execution_count": 1,
   "id": "282af65c-e007-439f-9a87-739b4734a779",
   "metadata": {},
   "outputs": [],
   "source": [
    "from cuota.logic.calculations import Calculator\n",
    "from cuota.importers.import_tax_data import get_income_tax_bands, get_social_security_bands\n",
    "from cuota.data_classes.tax_rules import BandsGroup, TaxModel"
   ]
  },
  {
   "cell_type": "code",
   "execution_count": 2,
   "id": "606d5d57-2522-4f61-8bb1-ac23fdc67297",
   "metadata": {},
   "outputs": [],
   "source": [
    "ss = get_social_security_bands()"
   ]
  },
  {
   "cell_type": "code",
   "execution_count": null,
   "id": "29b1ed2b-cced-4cad-9e8b-d0c8af92f687",
   "metadata": {},
   "outputs": [],
   "source": []
  },
  {
   "cell_type": "code",
   "execution_count": 3,
   "id": "0b0beca8-8352-4b6a-8e6e-9cfecf3fd811",
   "metadata": {},
   "outputs": [],
   "source": [
    "rule = TaxModel(tax_rules=[ss], name=\"just SS\")"
   ]
  },
  {
   "cell_type": "code",
   "execution_count": null,
   "id": "5c466f37-495f-42ad-9b6f-1161fd05c465",
   "metadata": {},
   "outputs": [],
   "source": []
  },
  {
   "cell_type": "code",
   "execution_count": 4,
   "id": "90e35e80-3797-4e4a-987a-bc329ed4f92f",
   "metadata": {},
   "outputs": [],
   "source": [
    "irpf = get_income_tax_bands()"
   ]
  },
  {
   "cell_type": "code",
   "execution_count": 5,
   "id": "543d6baf-c4a7-4eed-a838-eac05ff602cb",
   "metadata": {},
   "outputs": [
    {
     "data": {
      "text/plain": [
       "BandsGroup(bands=[Band(floor=0, ceiling=12450, rate=0.19, flat_charge=None), Band(floor=12450, ceiling=20200, rate=0.24, flat_charge=None), Band(floor=20200, ceiling=35200, rate=0.3, flat_charge=None), Band(floor=35200, ceiling=60000, rate=0.37, flat_charge=None), Band(floor=60000, ceiling=300000, rate=0.45, flat_charge=None)], year=2025, allowance=5500, name='Income Tax')"
      ]
     },
     "execution_count": 5,
     "metadata": {},
     "output_type": "execute_result"
    }
   ],
   "source": [
    "irpf"
   ]
  },
  {
   "cell_type": "code",
   "execution_count": 6,
   "id": "7543aa7b-5614-471f-9d77-10af5281b4c4",
   "metadata": {},
   "outputs": [
    {
     "name": "stdout",
     "output_type": "stream",
     "text": [
      "2365\n",
      "1860\n",
      "1290\n",
      "0\n",
      "0\n"
     ]
    },
    {
     "data": {
      "text/plain": [
       "5515"
      ]
     },
     "execution_count": 6,
     "metadata": {},
     "output_type": "execute_result"
    }
   ],
   "source": [
    "irpf.get_payable(30000)"
   ]
  },
  {
   "cell_type": "code",
   "execution_count": 7,
   "id": "fafb7c85-6559-4697-a83e-d0b89b12b885",
   "metadata": {},
   "outputs": [
    {
     "data": {
      "text/plain": [
       "5500"
      ]
     },
     "execution_count": 7,
     "metadata": {},
     "output_type": "execute_result"
    }
   ],
   "source": [
    "irpf.allowance"
   ]
  },
  {
   "cell_type": "code",
   "execution_count": 8,
   "id": "f812d1a2-f97b-4e07-bd51-aaf21a57a426",
   "metadata": {},
   "outputs": [],
   "source": [
    "metrics = {\n",
    "            \"PAYABLE\": \"payable\",\n",
    "            \"_NET_THIS\": \"net of this metric\",\n",
    "            \"_NET_SEQ\": \"net in sequence\",\n",
    "        \"_EFFECTIVE_THIS\": \"effective rate\",\n",
    "        \"_EFFECTIVE_SEQ\": \"effective in sequence\"\n",
    "        }\n",
    "        "
   ]
  },
  {
   "cell_type": "raw",
   "id": "b9ef2c79-1660-43cd-9da3-887009f6b848",
   "metadata": {},
   "source": [
    "rules = [\"social security\", \"income tax\"]\n",
    "s = (rule for rule in rules)\n",
    "print(s)\n"
   ]
  },
  {
   "cell_type": "code",
   "execution_count": 12,
   "id": "81b5dc42-5778-4074-afa3-6343dd4d8dd6",
   "metadata": {},
   "outputs": [
    {
     "ename": "NameError",
     "evalue": "name 'rules' is not defined",
     "output_type": "error",
     "traceback": [
      "\u001b[0;31m---------------------------------------------------------------------------\u001b[0m",
      "\u001b[0;31mNameError\u001b[0m                                 Traceback (most recent call last)",
      "Cell \u001b[0;32mIn[12], line 1\u001b[0m\n\u001b[0;32m----> 1\u001b[0m s \u001b[38;5;241m=\u001b[39m (rule \u001b[38;5;28;01mfor\u001b[39;00m rule \u001b[38;5;129;01min\u001b[39;00m \u001b[43mrules\u001b[49m)\n\u001b[1;32m      2\u001b[0m s\n",
      "\u001b[0;31mNameError\u001b[0m: name 'rules' is not defined"
     ]
    }
   ],
   "source": []
  }
 ],
 "metadata": {
  "kernelspec": {
   "display_name": "Python 3 (ipykernel)",
   "language": "python",
   "name": "python3"
  },
  "language_info": {
   "codemirror_mode": {
    "name": "ipython",
    "version": 3
   },
   "file_extension": ".py",
   "mimetype": "text/x-python",
   "name": "python",
   "nbconvert_exporter": "python",
   "pygments_lexer": "ipython3",
   "version": "3.12.7"
  }
 },
 "nbformat": 4,
 "nbformat_minor": 5
}
