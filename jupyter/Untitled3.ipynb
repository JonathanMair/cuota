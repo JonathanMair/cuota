{
 "cells": [
  {
   "cell_type": "code",
   "execution_count": 1,
   "id": "8be86ecc-f358-4bb5-bdc9-b4738cc313b5",
   "metadata": {},
   "outputs": [],
   "source": [
    "from cuota.importers.import_tax_data import get_all_social_security_data"
   ]
  },
  {
   "cell_type": "code",
   "execution_count": 7,
   "id": "9e6252b7-e334-49cb-bd33-e0d13b02a54c",
   "metadata": {},
   "outputs": [],
   "source": [
    "tax_models = get_all_social_security_data(as_tax_model=True, save_as=\"a\")"
   ]
  },
  {
   "cell_type": "code",
   "execution_count": 3,
   "id": "781911b5-4422-4abf-8a59-5643a15ff0b6",
   "metadata": {},
   "outputs": [],
   "source": [
    "from cuota.logic.comparators import Comparator"
   ]
  },
  {
   "cell_type": "code",
   "execution_count": 4,
   "id": "7ee8839c-5a6e-40c9-83ec-4f04ac749b1b",
   "metadata": {},
   "outputs": [],
   "source": [
    "comp = Comparator(tax_models)"
   ]
  },
  {
   "cell_type": "code",
   "execution_count": 5,
   "id": "ac3ce47d-31e4-43a0-8359-f293506957b2",
   "metadata": {},
   "outputs": [
    {
     "data": {
      "text/html": [
       "<div>\n",
       "<style scoped>\n",
       "    .dataframe tbody tr th:only-of-type {\n",
       "        vertical-align: middle;\n",
       "    }\n",
       "\n",
       "    .dataframe tbody tr th {\n",
       "        vertical-align: top;\n",
       "    }\n",
       "\n",
       "    .dataframe thead tr th {\n",
       "        text-align: left;\n",
       "    }\n",
       "</style>\n",
       "<table border=\"1\" class=\"dataframe\">\n",
       "  <thead>\n",
       "    <tr>\n",
       "      <th></th>\n",
       "      <th colspan=\"6\" halign=\"left\">Social Security</th>\n",
       "      <th>year</th>\n",
       "    </tr>\n",
       "    <tr>\n",
       "      <th></th>\n",
       "      <th>payable</th>\n",
       "      <th>payable in sequence</th>\n",
       "      <th>net of this metric</th>\n",
       "      <th>net in sequence</th>\n",
       "      <th>effective rate</th>\n",
       "      <th>effective in sequence</th>\n",
       "      <th></th>\n",
       "    </tr>\n",
       "  </thead>\n",
       "  <tbody>\n",
       "    <tr>\n",
       "      <th>6000</th>\n",
       "      <td>2760.0</td>\n",
       "      <td>2760.0</td>\n",
       "      <td>3240.0</td>\n",
       "      <td>3240.0</td>\n",
       "      <td>0.460000</td>\n",
       "      <td>0.460000</td>\n",
       "      <td>2023</td>\n",
       "    </tr>\n",
       "    <tr>\n",
       "      <th>6100</th>\n",
       "      <td>2760.0</td>\n",
       "      <td>2760.0</td>\n",
       "      <td>3340.0</td>\n",
       "      <td>3340.0</td>\n",
       "      <td>0.452459</td>\n",
       "      <td>0.452459</td>\n",
       "      <td>2023</td>\n",
       "    </tr>\n",
       "    <tr>\n",
       "      <th>6200</th>\n",
       "      <td>2760.0</td>\n",
       "      <td>2760.0</td>\n",
       "      <td>3440.0</td>\n",
       "      <td>3440.0</td>\n",
       "      <td>0.445161</td>\n",
       "      <td>0.445161</td>\n",
       "      <td>2023</td>\n",
       "    </tr>\n",
       "    <tr>\n",
       "      <th>6300</th>\n",
       "      <td>2760.0</td>\n",
       "      <td>2760.0</td>\n",
       "      <td>3540.0</td>\n",
       "      <td>3540.0</td>\n",
       "      <td>0.438095</td>\n",
       "      <td>0.438095</td>\n",
       "      <td>2023</td>\n",
       "    </tr>\n",
       "    <tr>\n",
       "      <th>6400</th>\n",
       "      <td>2760.0</td>\n",
       "      <td>2760.0</td>\n",
       "      <td>3640.0</td>\n",
       "      <td>3640.0</td>\n",
       "      <td>0.431250</td>\n",
       "      <td>0.431250</td>\n",
       "      <td>2023</td>\n",
       "    </tr>\n",
       "  </tbody>\n",
       "</table>\n",
       "</div>"
      ],
      "text/plain": [
       "     Social Security                                                         \\\n",
       "             payable payable in sequence net of this metric net in sequence   \n",
       "6000          2760.0              2760.0             3240.0          3240.0   \n",
       "6100          2760.0              2760.0             3340.0          3340.0   \n",
       "6200          2760.0              2760.0             3440.0          3440.0   \n",
       "6300          2760.0              2760.0             3540.0          3540.0   \n",
       "6400          2760.0              2760.0             3640.0          3640.0   \n",
       "\n",
       "                                           year  \n",
       "     effective rate effective in sequence        \n",
       "6000       0.460000              0.460000  2023  \n",
       "6100       0.452459              0.452459  2023  \n",
       "6200       0.445161              0.445161  2023  \n",
       "6300       0.438095              0.438095  2023  \n",
       "6400       0.431250              0.431250  2023  "
      ]
     },
     "execution_count": 5,
     "metadata": {},
     "output_type": "execute_result"
    }
   ],
   "source": [
    "comp.data.head()"
   ]
  },
  {
   "cell_type": "code",
   "execution_count": 6,
   "id": "2649baf4-07ac-461e-af3a-fc0d8475e6cd",
   "metadata": {},
   "outputs": [
    {
     "data": {
      "text/plain": [
       "TaxModel(tax_rules=[BandsGroup(bands=[Band(floor=0, ceiling=8040, rate=None, flat_charge=2760), Band(floor=8040, ceiling=10800, rate=None, flat_charge=3120), Band(floor=10800, ceiling=14000, rate=None, flat_charge=3300), Band(floor=14000, ceiling=15600, rate=None, flat_charge=3492), Band(floor=15600, ceiling=18000, rate=None, flat_charge=3528), Band(floor=18000, ceiling=20400, rate=None, flat_charge=3528), Band(floor=20400, ceiling=22200, rate=None, flat_charge=3720), Band(floor=22200, ceiling=24360, rate=None, flat_charge=3780), Band(floor=24360, ceiling=27960, rate=None, flat_charge=3840), Band(floor=27960, ceiling=33120, rate=None, flat_charge=3960), Band(floor=33120, ceiling=38280, rate=None, flat_charge=4200), Band(floor=38280, ceiling=43440, rate=None, flat_charge=4440), Band(floor=43440, ceiling=48600, rate=None, flat_charge=4680), Band(floor=48600, ceiling=72000, rate=None, flat_charge=5040), Band(floor=72000, ceiling=84000, rate=None, flat_charge=6000)], allowance=0, name='Social Security')], year=2023)"
      ]
     },
     "execution_count": 6,
     "metadata": {},
     "output_type": "execute_result"
    }
   ],
   "source": [
    "tax_models[0]"
   ]
  },
  {
   "cell_type": "code",
   "execution_count": null,
   "id": "b13853e2-f851-4d6e-a3e3-f025223ec270",
   "metadata": {},
   "outputs": [],
   "source": []
  }
 ],
 "metadata": {
  "kernelspec": {
   "display_name": "Python 3 (ipykernel)",
   "language": "python",
   "name": "python3"
  },
  "language_info": {
   "codemirror_mode": {
    "name": "ipython",
    "version": 3
   },
   "file_extension": ".py",
   "mimetype": "text/x-python",
   "name": "python",
   "nbconvert_exporter": "python",
   "pygments_lexer": "ipython3",
   "version": "3.12.7"
  }
 },
 "nbformat": 4,
 "nbformat_minor": 5
}
