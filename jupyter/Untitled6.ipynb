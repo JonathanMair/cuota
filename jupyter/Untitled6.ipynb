{
 "cells": [
  {
   "cell_type": "code",
   "execution_count": 1,
   "id": "b58d4b86-6523-4470-a5df-0942d3a64e40",
   "metadata": {},
   "outputs": [],
   "source": [
    "from cuota.data_classes.spanish_tax_rules import SpanishAutonomoModel, SpanishRegimenGeneralModel"
   ]
  },
  {
   "cell_type": "code",
   "execution_count": 2,
   "id": "0f2efe34-b65d-4b25-a0ad-6fd2b87df153",
   "metadata": {},
   "outputs": [
    {
     "data": {
      "text/plain": [
       "SpanishAutonomoModel(tax_rules=[BandsGroup(bands=[Band(floor=0, ceiling=8040, rate=None, flat_charge=2400, exclusive=False), Band(floor=8040, ceiling=10800, rate=None, flat_charge=2640, exclusive=False), Band(floor=10800, ceiling=13992, rate=None, flat_charge=3120, exclusive=False), Band(floor=13992, ceiling=15600, rate=None, flat_charge=3492, exclusive=False), Band(floor=15600, ceiling=18000, rate=None, flat_charge=3528, exclusive=False), Band(floor=18000, ceiling=20400, rate=None, flat_charge=3528, exclusive=False), Band(floor=20400, ceiling=22200, rate=None, flat_charge=4200, exclusive=False), Band(floor=22200, ceiling=24360, rate=None, flat_charge=4440, exclusive=False), Band(floor=24360, ceiling=27960, rate=None, flat_charge=4680, exclusive=False), Band(floor=27960, ceiling=33120, rate=None, flat_charge=4980, exclusive=False), Band(floor=33120, ceiling=38280, rate=None, flat_charge=5580, exclusive=False), Band(floor=38280, ceiling=43440, rate=None, flat_charge=5880, exclusive=False), Band(floor=43440, ceiling=48600, rate=None, flat_charge=6180, exclusive=False), Band(floor=48600, ceiling=72000, rate=None, flat_charge=6360, exclusive=False), Band(floor=72000, ceiling=84000, rate=None, flat_charge=7080, exclusive=False)], allowance=0, name='Social Security'), BandsGroup(bands=[Band(floor=0, ceiling=12450, rate=0.19, flat_charge=None, exclusive=False), Band(floor=12450, ceiling=20200, rate=0.24, flat_charge=None, exclusive=False), Band(floor=20200, ceiling=35200, rate=0.3, flat_charge=None, exclusive=False), Band(floor=35200, ceiling=60000, rate=0.37, flat_charge=None, exclusive=False), Band(floor=60000, ceiling=300000, rate=0.45, flat_charge=None, exclusive=False)], allowance=SpanishAutonomoAllowance(), name='Income Tax')], year=2025, name='TaxModel')"
      ]
     },
     "execution_count": 2,
     "metadata": {},
     "output_type": "execute_result"
    }
   ],
   "source": [
    "SpanishAutonomoModel(year=2025)"
   ]
  }
 ],
 "metadata": {
  "kernelspec": {
   "display_name": "Python 3 (ipykernel)",
   "language": "python",
   "name": "python3"
  },
  "language_info": {
   "codemirror_mode": {
    "name": "ipython",
    "version": 3
   },
   "file_extension": ".py",
   "mimetype": "text/x-python",
   "name": "python",
   "nbconvert_exporter": "python",
   "pygments_lexer": "ipython3",
   "version": "3.12.7"
  }
 },
 "nbformat": 4,
 "nbformat_minor": 5
}
