{
 "cells": [
  {
   "cell_type": "code",
   "execution_count": 1,
   "id": "54c78830-f6e3-4b47-a919-9c1f46b6b74d",
   "metadata": {},
   "outputs": [
    {
     "ename": "TypeError",
     "evalue": "'bool' object is not iterable",
     "output_type": "error",
     "traceback": [
      "\u001b[0;31m---------------------------------------------------------------------------\u001b[0m",
      "\u001b[0;31mTypeError\u001b[0m                                 Traceback (most recent call last)",
      "Cell \u001b[0;32mIn[1], line 1\u001b[0m\n\u001b[0;32m----> 1\u001b[0m \u001b[38;5;28;01mfrom\u001b[39;00m \u001b[38;5;21;01mcuota\u001b[39;00m\u001b[38;5;21;01m.\u001b[39;00m\u001b[38;5;21;01mimporters\u001b[39;00m\u001b[38;5;21;01m.\u001b[39;00m\u001b[38;5;21;01mimport_tax_data\u001b[39;00m \u001b[38;5;28;01mimport\u001b[39;00m \\\n\u001b[1;32m      2\u001b[0m     get_income_tax_bands, get_social_security_bands, get_spanish_regimen_general, get_spanish_data_by_year\n\u001b[1;32m      3\u001b[0m \u001b[38;5;28;01mfrom\u001b[39;00m \u001b[38;5;21;01mcuota\u001b[39;00m\u001b[38;5;21;01m.\u001b[39;00m\u001b[38;5;21;01mdata_classes\u001b[39;00m\u001b[38;5;21;01m.\u001b[39;00m\u001b[38;5;21;01mtax_rules\u001b[39;00m \u001b[38;5;28;01mimport\u001b[39;00m BandsGroup, TaxModel\n\u001b[1;32m      4\u001b[0m \u001b[38;5;28;01mfrom\u001b[39;00m \u001b[38;5;21;01mcuota\u001b[39;00m\u001b[38;5;21;01m.\u001b[39;00m\u001b[38;5;21;01mlogic\u001b[39;00m\u001b[38;5;21;01m.\u001b[39;00m\u001b[38;5;21;01mcomparators\u001b[39;00m \u001b[38;5;28;01mimport\u001b[39;00m Comparator\n",
      "File \u001b[0;32m~/Dropbox/coding/cuota/cuota/importers/import_tax_data.py:4\u001b[0m\n\u001b[1;32m      1\u001b[0m \u001b[38;5;28;01mfrom\u001b[39;00m \u001b[38;5;21;01mmath\u001b[39;00m \u001b[38;5;28;01mimport\u001b[39;00m floor\n\u001b[1;32m      3\u001b[0m \u001b[38;5;28;01mfrom\u001b[39;00m \u001b[38;5;21;01mcuota\u001b[39;00m\u001b[38;5;21;01m.\u001b[39;00m\u001b[38;5;21;01mdata_classes\u001b[39;00m\u001b[38;5;21;01m.\u001b[39;00m\u001b[38;5;21;01minterfaces\u001b[39;00m \u001b[38;5;28;01mimport\u001b[39;00m AllowanceFunction\n\u001b[0;32m----> 4\u001b[0m \u001b[38;5;28;01mfrom\u001b[39;00m \u001b[38;5;21;01mcuota\u001b[39;00m\u001b[38;5;21;01m.\u001b[39;00m\u001b[38;5;21;01mdata_classes\u001b[39;00m\u001b[38;5;21;01m.\u001b[39;00m\u001b[38;5;21;01mtax_rules\u001b[39;00m \u001b[38;5;28;01mimport\u001b[39;00m Band, BandsGroup, TaxModel\n\u001b[1;32m      5\u001b[0m \u001b[38;5;28;01mfrom\u001b[39;00m \u001b[38;5;21;01mpathlib\u001b[39;00m \u001b[38;5;28;01mimport\u001b[39;00m Path\n\u001b[1;32m      6\u001b[0m \u001b[38;5;28;01mimport\u001b[39;00m \u001b[38;5;21;01mpandas\u001b[39;00m \u001b[38;5;28;01mas\u001b[39;00m \u001b[38;5;21;01mpd\u001b[39;00m\n",
      "File \u001b[0;32m~/Dropbox/coding/cuota/cuota/data_classes/tax_rules.py:100\u001b[0m\n\u001b[1;32m     96\u001b[0m         \u001b[38;5;28;01mif\u001b[39;00m \u001b[38;5;28mself\u001b[39m\u001b[38;5;241m.\u001b[39mflat_charge \u001b[38;5;129;01mis\u001b[39;00m \u001b[38;5;129;01mnot\u001b[39;00m \u001b[38;5;28;01mNone\u001b[39;00m:\n\u001b[1;32m     97\u001b[0m             \u001b[38;5;28mself\u001b[39m\u001b[38;5;241m.\u001b[39mflat_charge \u001b[38;5;241m=\u001b[39m \u001b[38;5;28mint\u001b[39m(\u001b[38;5;28mself\u001b[39m\u001b[38;5;241m.\u001b[39mflat_charge \u001b[38;5;241m*\u001b[39m rate)\n\u001b[0;32m--> 100\u001b[0m \u001b[38;5;28;43;01mclass\u001b[39;49;00m\u001b[43m \u001b[49m\u001b[38;5;21;43;01mBandsGroup\u001b[39;49;00m\u001b[43m(\u001b[49m\u001b[43mBaseModel\u001b[49m\u001b[43m)\u001b[49m\u001b[43m:\u001b[49m\n\u001b[1;32m    101\u001b[0m \u001b[38;5;250;43m    \u001b[39;49m\u001b[38;5;124;43;03m\"\"\"\u001b[39;49;00m\n\u001b[1;32m    102\u001b[0m \u001b[38;5;124;43;03m    Represents a group of tax bands with an optional allowance.\u001b[39;49;00m\n\u001b[1;32m    103\u001b[0m \n\u001b[0;32m   (...)\u001b[0m\n\u001b[1;32m    117\u001b[0m \u001b[38;5;124;43;03m            Adjusts all bands in the group by the given rate.\u001b[39;49;00m\n\u001b[1;32m    118\u001b[0m \u001b[38;5;124;43;03m    \"\"\"\u001b[39;49;00m\n\u001b[1;32m    119\u001b[0m \u001b[43m    \u001b[49m\u001b[43mmodel_config\u001b[49m\u001b[43m \u001b[49m\u001b[38;5;241;43m=\u001b[39;49m\u001b[43m \u001b[49m\u001b[43marbitrary_types_allowed\u001b[49m\u001b[38;5;241;43m=\u001b[39;49m\u001b[38;5;28;43;01mTrue\u001b[39;49;00m\n",
      "File \u001b[0;32m~/Dropbox/coding/cuota/.venv/lib/python3.13/site-packages/pydantic/_internal/_model_construction.py:111\u001b[0m, in \u001b[0;36mModelMetaclass.__new__\u001b[0;34m(mcs, cls_name, bases, namespace, __pydantic_generic_metadata__, __pydantic_reset_parent_namespace__, _create_model_module, **kwargs)\u001b[0m\n\u001b[1;32m    108\u001b[0m \u001b[38;5;28;01mif\u001b[39;00m bases:\n\u001b[1;32m    109\u001b[0m     base_field_names, class_vars, base_private_attributes \u001b[38;5;241m=\u001b[39m mcs\u001b[38;5;241m.\u001b[39m_collect_bases_data(bases)\n\u001b[0;32m--> 111\u001b[0m     config_wrapper \u001b[38;5;241m=\u001b[39m \u001b[43mConfigWrapper\u001b[49m\u001b[38;5;241;43m.\u001b[39;49m\u001b[43mfor_model\u001b[49m\u001b[43m(\u001b[49m\u001b[43mbases\u001b[49m\u001b[43m,\u001b[49m\u001b[43m \u001b[49m\u001b[43mnamespace\u001b[49m\u001b[43m,\u001b[49m\u001b[43m \u001b[49m\u001b[43mkwargs\u001b[49m\u001b[43m)\u001b[49m\n\u001b[1;32m    112\u001b[0m     namespace[\u001b[38;5;124m'\u001b[39m\u001b[38;5;124mmodel_config\u001b[39m\u001b[38;5;124m'\u001b[39m] \u001b[38;5;241m=\u001b[39m config_wrapper\u001b[38;5;241m.\u001b[39mconfig_dict\n\u001b[1;32m    113\u001b[0m     private_attributes \u001b[38;5;241m=\u001b[39m inspect_namespace(\n\u001b[1;32m    114\u001b[0m         namespace, config_wrapper\u001b[38;5;241m.\u001b[39mignored_types, class_vars, base_field_names\n\u001b[1;32m    115\u001b[0m     )\n",
      "File \u001b[0;32m~/Dropbox/coding/cuota/.venv/lib/python3.13/site-packages/pydantic/_internal/_config.py:137\u001b[0m, in \u001b[0;36mConfigWrapper.for_model\u001b[0;34m(cls, bases, namespace, kwargs)\u001b[0m\n\u001b[1;32m    133\u001b[0m     \u001b[38;5;28;01mraise\u001b[39;00m PydanticUserError(\u001b[38;5;124m'\u001b[39m\u001b[38;5;124m\"\u001b[39m\u001b[38;5;124mConfig\u001b[39m\u001b[38;5;124m\"\u001b[39m\u001b[38;5;124m and \u001b[39m\u001b[38;5;124m\"\u001b[39m\u001b[38;5;124mmodel_config\u001b[39m\u001b[38;5;124m\"\u001b[39m\u001b[38;5;124m cannot be used together\u001b[39m\u001b[38;5;124m'\u001b[39m, code\u001b[38;5;241m=\u001b[39m\u001b[38;5;124m'\u001b[39m\u001b[38;5;124mconfig-both\u001b[39m\u001b[38;5;124m'\u001b[39m)\n\u001b[1;32m    135\u001b[0m config_from_namespace \u001b[38;5;241m=\u001b[39m config_dict_from_namespace \u001b[38;5;129;01mor\u001b[39;00m prepare_config(config_class_from_namespace)\n\u001b[0;32m--> 137\u001b[0m \u001b[43mconfig_new\u001b[49m\u001b[38;5;241;43m.\u001b[39;49m\u001b[43mupdate\u001b[49m\u001b[43m(\u001b[49m\u001b[43mconfig_from_namespace\u001b[49m\u001b[43m)\u001b[49m\n\u001b[1;32m    139\u001b[0m \u001b[38;5;28;01mfor\u001b[39;00m k \u001b[38;5;129;01min\u001b[39;00m \u001b[38;5;28mlist\u001b[39m(kwargs\u001b[38;5;241m.\u001b[39mkeys()):\n\u001b[1;32m    140\u001b[0m     \u001b[38;5;28;01mif\u001b[39;00m k \u001b[38;5;129;01min\u001b[39;00m config_keys:\n",
      "\u001b[0;31mTypeError\u001b[0m: 'bool' object is not iterable"
     ]
    }
   ],
   "source": [
    "from cuota.importers.import_tax_data import \\\n",
    "    get_income_tax_bands, get_social_security_bands, get_spanish_regimen_general, get_spanish_data_by_year\n",
    "from cuota.data_classes.tax_rules import BandsGroup, TaxModel\n",
    "from cuota.logic.comparators import Comparator\n",
    "from cuota.logic.calculations import Calculator\n"
   ]
  },
  {
   "cell_type": "code",
   "execution_count": null,
   "id": "51e35ab3-acab-4720-9775-a7e4c433643a",
   "metadata": {},
   "outputs": [],
   "source": [
    "regimen_general = get_spanish_regimen_general()"
   ]
  },
  {
   "cell_type": "code",
   "execution_count": null,
   "id": "6b6168d9-e762-47f9-9ec7-78ad578e215c",
   "metadata": {},
   "outputs": [],
   "source": [
    "reta = get_spanish_data_by_year()"
   ]
  },
  {
   "cell_type": "code",
   "execution_count": null,
   "id": "75edf440-5857-45f3-ae70-cd006aa70b85",
   "metadata": {},
   "outputs": [],
   "source": [
    "comp_rg = Comparator(regimen_general)\n",
    "comp_re = Comparator(reta)\n",
    "comps = [comp_rg, comp_re]\n",
    "names = [\"Régimen General\", \"Régimen Especial Trabajador Autónomo\"]\n",
    "cols = [list(comp.dfs[0].columns) for comp in comps]\n",
    "data = zip(comps, names, cols)"
   ]
  },
  {
   "cell_type": "code",
   "execution_count": null,
   "id": "47d41e39-3d36-4539-98fe-ac367b99ed82",
   "metadata": {},
   "outputs": [],
   "source": [
    "def plotter(df, year, axs, row, col_no, col):\n",
    "    if df[col].max() > 10000:\n",
    "        axs[col_no, row].plot(df.index, df.index)\n",
    "    axs[col_no, row].plot(df.index, df[col], label=year)\n",
    "    # axs[col_no, row].title(f\"{col}\")"
   ]
  },
  {
   "cell_type": "code",
   "execution_count": null,
   "id": "2439ca2b-b3cd-4ad8-9a11-495e8d318083",
   "metadata": {},
   "outputs": [],
   "source": [
    "import matplotlib.pyplot as plt"
   ]
  },
  {
   "cell_type": "code",
   "execution_count": null,
   "id": "036d940e-65c4-4b70-91fe-5557f62d0d58",
   "metadata": {},
   "outputs": [],
   "source": [
    "fig, axs = plt.subplots(12, 2, figsize=(15,40\n",
    "                                       ), sharey=\"row\")\n",
    "comp_rg = Comparator(regimen_general)\n",
    "comp_re = Comparator(reta)\n",
    "comps = [comp_rg, comp_re]\n",
    "names = [\"Régimen General\", \"Régimen Especial Trabajador Autónomo\"]\n",
    "data = zip(comps, names)\n",
    "for row, (comp, name) in enumerate(data):\n",
    "    cols = list(comp.dfs[0].columns)\n",
    "    for col_no, col in enumerate (cols):\n",
    "        for df, year in zip(comp.dfs, comp.years):\n",
    "            if year == 2025:\n",
    "                #plotter(df, year, axs, row, col_no, col)\n",
    "                plotter(df, year, axs, 0, col_no, col)\n",
    "fig.show()"
   ]
  },
  {
   "cell_type": "code",
   "execution_count": null,
   "id": "acd19375-8a03-4bbe-8714-fd1a760fc6f3",
   "metadata": {},
   "outputs": [],
   "source": [
    "df = comps[0].dfs[0]\n",
    "print(df.columns)\n",
    "plotter(comps[0].dfs[0], rule, metric, axs, row, col)"
   ]
  },
  {
   "cell_type": "code",
   "execution_count": null,
   "id": "b4c576e7-c432-4fba-8527-1aff4e207d8d",
   "metadata": {},
   "outputs": [],
   "source": [
    "for col, comp in enumerate(comps):\n",
    "    for row, metric in enumerate(cols2):\n",
    "        for row2, rule in enumerate(cols1):\n",
    "            for df, year in zip(comp.dfs, comp.years):\n",
    "                plotter(df, rule, metric, axs, row, col)"
   ]
  },
  {
   "cell_type": "code",
   "execution_count": null,
   "id": "a20045a9-1560-4c6d-a4a2-fc5f4d779cbb",
   "metadata": {},
   "outputs": [],
   "source": [
    "for metric in cols2:\n",
    "    for rule in cols1:\n",
    "        for df, year in zip(comp.dfs, comp.years):\n",
    "            if df[(rule, metric)].max() > 10000:\n",
    "                plt.plot(df.index, df.index)\n",
    "            plt.plot(df.index, df[(rule, metric)], label=year)\n",
    "            plt.title(f\"{metric}: {rule}\")\n",
    "        plt.legend()\n",
    "        plt.grid()\n",
    "        plt.show()"
   ]
  }
 ],
 "metadata": {
  "kernelspec": {
   "display_name": "Python 3 (ipykernel)",
   "language": "python",
   "name": "python3"
  },
  "language_info": {
   "codemirror_mode": {
    "name": "ipython",
    "version": 3
   },
   "file_extension": ".py",
   "mimetype": "text/x-python",
   "name": "python",
   "nbconvert_exporter": "python",
   "pygments_lexer": "ipython3",
   "version": "3.13.0"
  }
 },
 "nbformat": 4,
 "nbformat_minor": 5
}
