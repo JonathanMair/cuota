{
 "cells": [
  {
   "cell_type": "code",
   "execution_count": 1,
   "id": "43007d12-6364-42a5-afc3-f9e2ce138a21",
   "metadata": {},
   "outputs": [],
   "source": [
    "import numpy as np"
   ]
  },
  {
   "cell_type": "code",
   "execution_count": 8,
   "id": "8224e958-e4dc-4bba-b158-8a5e36fb0ada",
   "metadata": {},
   "outputs": [
    {
     "data": {
      "text/plain": [
       "[array([10,  2,  3,  4,  5]), array([10, 10, 10, 10, 10])]"
      ]
     },
     "execution_count": 8,
     "metadata": {},
     "output_type": "execute_result"
    }
   ],
   "source": [
    "a1 = np.array([10, 2, 3, 4, 5])\n",
    "a2 = np.array([10]*5)\n",
    "arrs = [a1, a2]\n",
    "arrs"
   ]
  },
  {
   "cell_type": "code",
   "execution_count": 12,
   "id": "4fbddfd4-c0da-424a-b11d-4afd884a6951",
   "metadata": {},
   "outputs": [
    {
     "name": "stdout",
     "output_type": "stream",
     "text": [
      "[0. 0. 0. 0. 0.]\n",
      "0\n",
      "1\n"
     ]
    },
    {
     "data": {
      "text/plain": [
       "array([20., 12., 13., 14., 15.])"
      ]
     },
     "execution_count": 12,
     "metadata": {},
     "output_type": "execute_result"
    }
   ],
   "source": [
    "result = np.zeros(len(a1))\n",
    "print(result)\n",
    "for i in range(len(arrs)):\n",
    "    print(i)\n",
    "    result = result + arrs[i]\n",
    "result"
   ]
  },
  {
   "cell_type": "code",
   "execution_count": 15,
   "id": "406f9d10-2065-45e9-82a9-68cfb4d82f41",
   "metadata": {},
   "outputs": [
    {
     "data": {
      "text/plain": [
       "array([20., 12., 13., 14., 15.])"
      ]
     },
     "execution_count": 15,
     "metadata": {},
     "output_type": "execute_result"
    }
   ],
   "source": [
    "result = np.zeros(len(a1))\n",
    "[np.add(arrs[i], result, out=result) for i in range(len(arrs))]\n",
    "result"
   ]
  }
 ],
 "metadata": {
  "kernelspec": {
   "display_name": "Python 3 (ipykernel)",
   "language": "python",
   "name": "python3"
  },
  "language_info": {
   "codemirror_mode": {
    "name": "ipython",
    "version": 3
   },
   "file_extension": ".py",
   "mimetype": "text/x-python",
   "name": "python",
   "nbconvert_exporter": "python",
   "pygments_lexer": "ipython3",
   "version": "3.12.7"
  }
 },
 "nbformat": 4,
 "nbformat_minor": 5
}
